{
  "nbformat": 4,
  "nbformat_minor": 0,
  "metadata": {
    "colab": {
      "provenance": []
    },
    "kernelspec": {
      "name": "python3",
      "display_name": "Python 3"
    },
    "language_info": {
      "name": "python"
    }
  },
  "cells": [
    {
      "cell_type": "markdown",
      "source": [
        "Datatypes:"
      ],
      "metadata": {
        "id": "qit1ujq9QrzK"
      }
    },
    {
      "cell_type": "markdown",
      "source": [
        "Define a variable my_integer with the value 42.Create a variable my_float with the value 3.14.Declare a variable my_string with the value \"Hello,Python!\".Print the type of each variable."
      ],
      "metadata": {
        "id": "Y3ejI1fbkrvO"
      }
    },
    {
      "cell_type": "code",
      "source": [
        "my_integer = 42\n",
        "my_float = 3.14\n",
        "my_string = \"Hello,Python!\"\n",
        "\n",
        "print(my_integer, type(my_integer))\n",
        "print(my_float, type(my_float))\n",
        "print(my_string, type(my_string))"
      ],
      "metadata": {
        "colab": {
          "base_uri": "https://localhost:8080/"
        },
        "id": "Aa4uIDwu1Ulz",
        "outputId": "75d226ea-b9d9-4702-a6a9-b403f93ecf90"
      },
      "execution_count": null,
      "outputs": [
        {
          "output_type": "stream",
          "name": "stdout",
          "text": [
            "42 <class 'int'>\n",
            "3.14 <class 'float'>\n",
            "Hello,Python! <class 'str'>\n"
          ]
        }
      ]
    },
    {
      "cell_type": "markdown",
      "source": [
        "Operators:"
      ],
      "metadata": {
        "id": "oWXjFgf7Q8cM"
      }
    },
    {
      "cell_type": "markdown",
      "source": [
        "Implement a program that calculates the area of a rectangle.Take the length and width as input from the user."
      ],
      "metadata": {
        "id": "uWk582XJlWJE"
      }
    },
    {
      "cell_type": "code",
      "source": [
        "length = int(input(\"Enter the length of the rectangle: \"))\n",
        "width = int(input(\"Enter the width of the rectangle: \"))\n",
        "\n",
        "area = length * width\n",
        "\n",
        "print(\"The area of the rectangle is:\", area)"
      ],
      "metadata": {
        "colab": {
          "base_uri": "https://localhost:8080/"
        },
        "id": "4HrjsCj93vnk",
        "outputId": "d1b0f71b-d857-44cc-b357-e19e79f00ae2"
      },
      "execution_count": null,
      "outputs": [
        {
          "output_type": "stream",
          "name": "stdout",
          "text": [
            "Enter the length of the rectangle: 12\n",
            "Enter the width of the rectangle: 6\n",
            "The area of the rectangle is: 72\n"
          ]
        }
      ]
    },
    {
      "cell_type": "markdown",
      "source": [
        "Use the modulus operator to find the remainder when dividing 15 by 4."
      ],
      "metadata": {
        "id": "YfN_6j92lmbh"
      }
    },
    {
      "cell_type": "code",
      "source": [
        "a = 15\n",
        "b = 4\n",
        "\n",
        "print(a % b)\n"
      ],
      "metadata": {
        "colab": {
          "base_uri": "https://localhost:8080/"
        },
        "id": "50oyiYyH6k_o",
        "outputId": "2eeb0268-3cd8-4e8d-b2f4-935941475db6"
      },
      "execution_count": null,
      "outputs": [
        {
          "output_type": "stream",
          "name": "stdout",
          "text": [
            "3\n"
          ]
        }
      ]
    },
    {
      "cell_type": "markdown",
      "source": [
        "Conditional Programming:"
      ],
      "metadata": {
        "id": "QEVVoTsVRHah"
      }
    },
    {
      "cell_type": "markdown",
      "source": [
        "Write a program that creates if a number is positive,negativeor zero."
      ],
      "metadata": {
        "id": "9uPlT21fl6Ut"
      }
    },
    {
      "cell_type": "code",
      "source": [
        "number = float(input(\"Enter a number\"))\n",
        "\n",
        "if(number > 0):\n",
        "  print(\"number is positive\")\n",
        "elif(number < 0):\n",
        "  print(\"number is negative\")\n",
        "else:\n",
        "  print(\"number is zero\")"
      ],
      "metadata": {
        "colab": {
          "base_uri": "https://localhost:8080/"
        },
        "id": "uMuJ933-8vUI",
        "outputId": "6286958a-a39c-4af2-d817-9f9d410b61ce"
      },
      "execution_count": 1,
      "outputs": [
        {
          "output_type": "stream",
          "name": "stdout",
          "text": [
            "Enter a number4\n",
            "number is positive\n"
          ]
        }
      ]
    },
    {
      "cell_type": "markdown",
      "source": [
        "Implement a program that determines if a given yera is a leap year."
      ],
      "metadata": {
        "id": "5nLcfyO2mFCW"
      }
    },
    {
      "cell_type": "code",
      "source": [
        "year = int(input(\"Enter the year\"))\n",
        "\n",
        "if(year % 4 == 0):\n",
        "  print(\"The year is a leap year\")\n",
        "else:\n",
        "  print(\"The year is not a leap year\")"
      ],
      "metadata": {
        "colab": {
          "base_uri": "https://localhost:8080/"
        },
        "id": "krTNeziWAY5b",
        "outputId": "fa152240-0585-41df-a18a-53e10c42ea2d"
      },
      "execution_count": null,
      "outputs": [
        {
          "output_type": "stream",
          "name": "stdout",
          "text": [
            "Enter the year2000\n",
            "The year is a leap year\n"
          ]
        }
      ]
    },
    {
      "cell_type": "markdown",
      "source": [
        "Loops(while & for):"
      ],
      "metadata": {
        "id": "VLw_CS46SclY"
      }
    },
    {
      "cell_type": "markdown",
      "source": [
        "Use a while loop to print the square of numbers from 1 to 5."
      ],
      "metadata": {
        "id": "0pgbFXg3mOaO"
      }
    },
    {
      "cell_type": "code",
      "source": [
        "i = 1\n",
        "while i <= 5:\n",
        "  print(i**2)\n",
        "  i = i + 1\n"
      ],
      "metadata": {
        "colab": {
          "base_uri": "https://localhost:8080/"
        },
        "id": "QHOfdVg_C9RM",
        "outputId": "e14006c9-038b-4415-d206-9fe5258c0ab3"
      },
      "execution_count": 4,
      "outputs": [
        {
          "output_type": "stream",
          "name": "stdout",
          "text": [
            "1\n",
            "4\n",
            "9\n",
            "16\n",
            "25\n"
          ]
        }
      ]
    },
    {
      "cell_type": "markdown",
      "source": [
        "Use a for lopp to print each character of the string \"python\"."
      ],
      "metadata": {
        "id": "u8NGaxyNmaQL"
      }
    },
    {
      "cell_type": "code",
      "source": [
        "string_name = \"python\"\n",
        "\n",
        "for element in range(0, len(string_name)):\n",
        "  print(string_name[element])\n",
        "\n"
      ],
      "metadata": {
        "colab": {
          "base_uri": "https://localhost:8080/"
        },
        "id": "ecCcT0A8I7ic",
        "outputId": "52ae72f6-42b7-4a83-e26e-e18197bafc0d"
      },
      "execution_count": null,
      "outputs": [
        {
          "output_type": "stream",
          "name": "stdout",
          "text": [
            "p\n",
            "y\n",
            "t\n",
            "h\n",
            "o\n",
            "n\n"
          ]
        }
      ]
    },
    {
      "cell_type": "markdown",
      "source": [
        "Args and Kwargs:"
      ],
      "metadata": {
        "id": "b-DFEQZATyos"
      }
    },
    {
      "cell_type": "markdown",
      "source": [
        "Create a function add_numbers that takes any number of arguments and returns their sum."
      ],
      "metadata": {
        "id": "hPVMJYi4mn9a"
      }
    },
    {
      "cell_type": "code",
      "source": [
        "def add_numbers(*args):\n",
        "  return sum(args)"
      ],
      "metadata": {
        "id": "ky-VghjRpL7t"
      },
      "execution_count": 5,
      "outputs": []
    },
    {
      "cell_type": "code",
      "source": [
        "add_numbers(10,20,30,46)"
      ],
      "metadata": {
        "colab": {
          "base_uri": "https://localhost:8080/"
        },
        "id": "OFpVIf_cqXNT",
        "outputId": "8db15ee3-74ee-446c-bb95-bacc43780170"
      },
      "execution_count": 8,
      "outputs": [
        {
          "output_type": "execute_result",
          "data": {
            "text/plain": [
              "106"
            ]
          },
          "metadata": {},
          "execution_count": 8
        }
      ]
    },
    {
      "cell_type": "markdown",
      "source": [
        "Define a function print_info that takes any number of keywords arguments and prints them."
      ],
      "metadata": {
        "id": "6V1fqIxkm3pn"
      }
    },
    {
      "cell_type": "code",
      "source": [
        "def print_info(**kwargs):\n",
        "  details = {}\n",
        "  for key,val in kwargs.items():\n",
        "    details[key] = val\n",
        "  print(details)"
      ],
      "metadata": {
        "id": "wiH8kAjDr7rD"
      },
      "execution_count": null,
      "outputs": []
    },
    {
      "cell_type": "code",
      "source": [
        "print_info(name = \"Prgathi\" , age = 20 , email = 'rangapragathi2003@gmail.com' , city = \"Hyderabad\")"
      ],
      "metadata": {
        "colab": {
          "base_uri": "https://localhost:8080/"
        },
        "id": "2aakpYY_sjSF",
        "outputId": "c4230719-e0ca-4608-9dc8-b37b3daaa793"
      },
      "execution_count": null,
      "outputs": [
        {
          "output_type": "stream",
          "name": "stdout",
          "text": [
            "{'name': 'Prgathi', 'age': 20, 'email': 'rangapragathi2003@gmail.com', 'city': 'Hyderabad'}\n"
          ]
        }
      ]
    },
    {
      "cell_type": "markdown",
      "source": [
        "Lambda Function:"
      ],
      "metadata": {
        "id": "CE-LmsOPVla5"
      }
    },
    {
      "cell_type": "markdown",
      "source": [
        "Write a lambda function to calculate the square of a number."
      ],
      "metadata": {
        "id": "qJU5yhQ3nHks"
      }
    },
    {
      "cell_type": "code",
      "source": [
        "square_num = lambda x : x**2\n",
        "square_num(2)"
      ],
      "metadata": {
        "colab": {
          "base_uri": "https://localhost:8080/"
        },
        "id": "TXEY5zc6tP2k",
        "outputId": "cacd9dcb-79be-4fde-b275-e68aea406de3"
      },
      "execution_count": null,
      "outputs": [
        {
          "output_type": "execute_result",
          "data": {
            "text/plain": [
              "4"
            ]
          },
          "metadata": {},
          "execution_count": 18
        }
      ]
    },
    {
      "cell_type": "markdown",
      "source": [
        "Create a list of numbers and use the lambda function with the map function to get a list of their squares."
      ],
      "metadata": {
        "id": "cww-SA02nP42"
      }
    },
    {
      "cell_type": "code",
      "source": [
        "list_numbers = [2,4,6,8]\n",
        "\n",
        "squarenum = list(map(lambda num : num**2 , list_numbers))\n",
        "\n",
        "print(squarenum)"
      ],
      "metadata": {
        "colab": {
          "base_uri": "https://localhost:8080/"
        },
        "id": "FPSBGliut9jb",
        "outputId": "ba6e4df9-36ed-4462-f538-f3ee2c335ec5"
      },
      "execution_count": null,
      "outputs": [
        {
          "output_type": "stream",
          "name": "stdout",
          "text": [
            "[4, 16, 36, 64]\n"
          ]
        }
      ]
    },
    {
      "cell_type": "markdown",
      "source": [
        "Map Function:"
      ],
      "metadata": {
        "id": "XdZIJFSLWTRF"
      }
    },
    {
      "cell_type": "markdown",
      "source": [
        "Define a function double that takes a number as input and returns its double."
      ],
      "metadata": {
        "id": "hT_7LqFTncYr"
      }
    },
    {
      "cell_type": "code",
      "source": [
        "double = input(\"Enter a number\")\n",
        "\n",
        "def double(number):\n",
        "    return number*2\n"
      ],
      "metadata": {
        "colab": {
          "base_uri": "https://localhost:8080/"
        },
        "id": "3AK3rTtRvcXO",
        "outputId": "cdd55b3b-6fd7-404a-8e30-1f7815f67303"
      },
      "execution_count": 17,
      "outputs": [
        {
          "name": "stdout",
          "output_type": "stream",
          "text": [
            "Enter a number2\n"
          ]
        }
      ]
    },
    {
      "cell_type": "code",
      "source": [
        "list(map(double,[2]))"
      ],
      "metadata": {
        "colab": {
          "base_uri": "https://localhost:8080/"
        },
        "id": "t2_n3mkiYIBo",
        "outputId": "bfbb986e-0e68-4075-edf4-7e1db2eaf08f"
      },
      "execution_count": 19,
      "outputs": [
        {
          "output_type": "execute_result",
          "data": {
            "text/plain": [
              "[4]"
            ]
          },
          "metadata": {},
          "execution_count": 19
        }
      ]
    },
    {
      "cell_type": "markdown",
      "source": [
        "Use the map function to double each elememt in a list of numbers."
      ],
      "metadata": {
        "id": "LEI1HZtQnnoc"
      }
    },
    {
      "cell_type": "code",
      "source": [
        "list_numbers = [1,2,3,4,5,6,7,8]"
      ],
      "metadata": {
        "id": "fkdbHPmhzGay"
      },
      "execution_count": null,
      "outputs": []
    },
    {
      "cell_type": "code",
      "source": [
        "number = [1,3,5,7,9,11]\n",
        "\n",
        "double = list(map(lambda x: x * 2 , number))\n",
        "\n",
        "result = double\n",
        "\n",
        "print(f\"The double of {number} is: {result}\")"
      ],
      "metadata": {
        "colab": {
          "base_uri": "https://localhost:8080/"
        },
        "id": "n8tknQhPzVhP",
        "outputId": "e9db19da-b47e-450d-a759-aae6c52cbd84"
      },
      "execution_count": null,
      "outputs": [
        {
          "output_type": "stream",
          "name": "stdout",
          "text": [
            "The double of [1, 3, 5, 7, 9, 11] is: [2, 6, 10, 14, 18, 22]\n"
          ]
        }
      ]
    },
    {
      "cell_type": "markdown",
      "source": [
        "Filter Function:"
      ],
      "metadata": {
        "id": "6vDVl9pmZncx"
      }
    },
    {
      "cell_type": "markdown",
      "source": [
        "Create a list of numbers and use the filter function to get only the even numbers."
      ],
      "metadata": {
        "id": "TrpqIHrnnwxU"
      }
    },
    {
      "cell_type": "code",
      "source": [
        "numbers = [1,2,3,4,5]\n",
        "even_numbers = list(filter(lambda x : x % 2 == 0 , numbers))\n",
        "\n",
        "\n",
        "print(even_numbers)"
      ],
      "metadata": {
        "colab": {
          "base_uri": "https://localhost:8080/"
        },
        "id": "bJ_Di3puzr6Z",
        "outputId": "a0752648-6bac-4e76-c8fa-ac7bcbcd3dc8"
      },
      "execution_count": 23,
      "outputs": [
        {
          "output_type": "stream",
          "name": "stdout",
          "text": [
            "[2, 4]\n"
          ]
        }
      ]
    },
    {
      "cell_type": "markdown",
      "source": [
        "Define a function is_prime to check if a number is prime."
      ],
      "metadata": {
        "id": "Hl9ShJMEn6k-"
      }
    },
    {
      "cell_type": "code",
      "source": [
        " def is_prime(number):\n",
        "     if number < 2:\n",
        "        return False\n",
        "     for i in range(2, int(number**0.5) + 1):\n",
        "        if number % i == 0:\n",
        "          return False\n",
        "     return True\n"
      ],
      "metadata": {
        "id": "tdaqyw4Z1Vz3"
      },
      "execution_count": 26,
      "outputs": []
    },
    {
      "cell_type": "code",
      "source": [
        "is_prime(2)\n",
        ""
      ],
      "metadata": {
        "colab": {
          "base_uri": "https://localhost:8080/"
        },
        "id": "9gRt7a0UclVu",
        "outputId": "d1ae06e1-ea3a-4590-cec4-95a65bfde195"
      },
      "execution_count": 29,
      "outputs": [
        {
          "output_type": "execute_result",
          "data": {
            "text/plain": [
              "True"
            ]
          },
          "metadata": {},
          "execution_count": 29
        }
      ]
    },
    {
      "cell_type": "markdown",
      "source": [
        "Use filter to get a list of prime numbers from another list."
      ],
      "metadata": {
        "id": "aytPp1a0oHet"
      }
    },
    {
      "cell_type": "code",
      "source": [
        "numbers = [1,2,3,4,5,6,7,8,9,10]\n",
        "prime_numbers = list(filter(is_prime,numbers))\n",
        "\n",
        "print(prime_numbers)"
      ],
      "metadata": {
        "colab": {
          "base_uri": "https://localhost:8080/"
        },
        "id": "5wDHDsP7dGfj",
        "outputId": "f7b495bb-9611-4628-9f99-f3596db07a13"
      },
      "execution_count": 31,
      "outputs": [
        {
          "output_type": "stream",
          "name": "stdout",
          "text": [
            "[2, 3, 5, 7]\n"
          ]
        }
      ]
    },
    {
      "cell_type": "markdown",
      "source": [
        "All and Any:"
      ],
      "metadata": {
        "id": "Hyg1bHJod38t"
      }
    },
    {
      "cell_type": "markdown",
      "source": [
        "Write a program using all to check if all elements ina list are integers."
      ],
      "metadata": {
        "id": "AAjhnonboQq6"
      }
    },
    {
      "cell_type": "code",
      "source": [
        "def check_integers(lst):\n",
        "  return all(isinstance(element,int) for element in lst)\n",
        "\n",
        "numbers = [1,2,3,4,5]\n",
        "result = check_integers(numbers)\n",
        "\n",
        "print(result)"
      ],
      "metadata": {
        "colab": {
          "base_uri": "https://localhost:8080/"
        },
        "id": "qCJsgnRQ65JU",
        "outputId": "3df81cfd-e5e9-4fbe-82da-aecc09e04e17"
      },
      "execution_count": 39,
      "outputs": [
        {
          "output_type": "stream",
          "name": "stdout",
          "text": [
            "True\n"
          ]
        }
      ]
    },
    {
      "cell_type": "markdown",
      "source": [
        "Implement a program using any to check if any srting in a list is no longer than 8 characters."
      ],
      "metadata": {
        "id": "MG5qE7xjodmz"
      }
    },
    {
      "cell_type": "code",
      "source": [
        "strings = [\"chandrashekar\",\"lakshmi\",\"prashanth\",\"pragathi\",\"kaveri\"]\n",
        "\n",
        "if any(len(string)> 8 for string in strings):\n",
        "  print(\"At least one string is longer than 8 characters.\")\n",
        "else:\n",
        "  print(\"No string is longer than 8 characters.\")"
      ],
      "metadata": {
        "colab": {
          "base_uri": "https://localhost:8080/"
        },
        "id": "Pw0PYXpx7mLM",
        "outputId": "50f8c6e3-5f78-4afe-b216-e7f383bd5eb6"
      },
      "execution_count": 32,
      "outputs": [
        {
          "output_type": "stream",
          "name": "stdout",
          "text": [
            "At least one string is longer than 8 characters.\n"
          ]
        }
      ]
    }
  ]
}